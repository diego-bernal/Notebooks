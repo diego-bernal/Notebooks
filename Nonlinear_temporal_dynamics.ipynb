{
 "cells": [
  {
   "cell_type": "markdown",
   "metadata": {},
   "source": [
    "#Nonlinear Temporal Dynamics of a Strongly Coupled Quantum-Dot–Cavity System"
   ]
  },
  {
   "cell_type": "markdown",
   "metadata": {},
   "source": [
    " "
   ]
  },
  {
   "cell_type": "code",
   "execution_count": 1,
   "metadata": {
    "collapsed": true
   },
   "outputs": [],
   "source": [
    "from qutip import *\n",
    "import numpy as np\n",
    "import matplotlib.pyplot as plt\n",
    "import time"
   ]
  },
  {
   "cell_type": "code",
   "execution_count": 2,
   "metadata": {
    "collapsed": true
   },
   "outputs": [],
   "source": [
    "%matplotlib inline"
   ]
  },
  {
   "cell_type": "code",
   "execution_count": 3,
   "metadata": {
    "collapsed": true
   },
   "outputs": [],
   "source": [
    "def gaussian(t):\n",
    "    #Ω0 = args[2] # Pulse Area!\n",
    "    t0 = 10.0 # Time for maximum -> Mean value of the Gaussian distribution!\n",
    "    F = 5.0 # Full-Width at Half-Maximum!\n",
    "    σs = 0.42*F\n",
    "    #Omega = (Ω0/(np.sqrt(2*np.pi)*σs))*np.exp(-0.5*((t-t0)/σs)**2)\n",
    "    #Ω = (1.0/(np.sqrt(2*np.pi)*σs))*np.exp(-0.5*((t-t0)/σs)**2)\n",
    "    Ω = np.exp(-0.5*((t-t0)/σs)**2)\n",
    "    return Ω    "
   ]
  },
  {
   "cell_type": "code",
   "execution_count": 4,
   "metadata": {
    "collapsed": false
   },
   "outputs": [],
   "source": [
    "def hamiltonian_t(t, args):\n",
    "    \"\"\" evaluate the hamiltonian at time t. \"\"\"\n",
    "    # Time units are (ps)! So, frequencies are in (THz)!\n",
    "    H0 = args[0]\n",
    "    H1 = args[1]\n",
    "    Ω = gaussian(t)\n",
    "    return H0 + Ω*H1"
   ]
  },
  {
   "cell_type": "code",
   "execution_count": 5,
   "metadata": {
    "collapsed": true
   },
   "outputs": [],
   "source": [
    "def qubit_integrate(n, Δa, Δc, g, Ω0, κ, γ, ψ0, tlist):\n",
    "\n",
    "    # Hamiltonian\n",
    "    a = tensor(identity(2),destroy(n))\n",
    "    σ = tensor(destroy(2),identity(n))\n",
    "    \n",
    "    #a = tensor(destroy(n),identity(2))\n",
    "    #σ = tensor(identity(n),destroy(2))\n",
    "\n",
    "    H0 = Δa*σ.dag()*σ + Δc*a.dag()*a + 1j*g*(a.dag()*σ - a*σ.dag())\n",
    "    H1 = 1j*Ω0*(a-a.dag())\n",
    "\n",
    "    # collapse operators\n",
    "    c_op_list = []\n",
    "\n",
    "    # Cavity photons dissipation (a)\n",
    "    if κ > 0.0:\n",
    "        c_op_list.append( np.sqrt(κ)*a )\n",
    "\n",
    "    # Spontaneous emission\n",
    "    if γ > 0.0:\n",
    "        c_op_list.append( np.sqrt(γ)*σ )\n",
    "\n",
    "    # evolve and calculate expectation values\n",
    "\n",
    "    # method 1: function callback which returns the time-dependent qobj\n",
    "    H_args = (H0, H1)\n",
    "    output = mesolve(hamiltonian_t, ψ0, tlist, c_op_list, [a], H_args)  \n",
    "\n",
    "    # method 2: a function callback that returns the coefficient for a qobj\n",
    "    #H = [H0, [H1, lambda x,y: x]]\n",
    "    #output = mesolve(H, psi0, tlist, c_op_list, [sm.dag() * sm], {})  \n",
    "\n",
    "    # method 3: a string that defines the coefficient. The solver generates\n",
    "    # and compiles C code using cython. This method is usually the fastest\n",
    "    # for large systems or long time evolutions, but there is fixed-time\n",
    "    # overhead that makes it inefficient for small and short-time evolutions.\n",
    "    #H = [H0, [H1, 't']]\n",
    "    #output = mesolve(H, psi0, tlist, c_op_list, [sm.dag() * sm], {})  \n",
    "\n",
    "    return output.expect[0]"
   ]
  },
  {
   "cell_type": "code",
   "execution_count": 55,
   "metadata": {
    "collapsed": true
   },
   "outputs": [],
   "source": [
    "def calc_spectrum(n, Δa, Δc, g, Ω0, κ, γ, tlist, wlist):\n",
    "\n",
    "    # Hamiltonian\n",
    "    a = tensor(identity(2),destroy(n))\n",
    "    σ = tensor(destroy(2),identity(n))\n",
    "    \n",
    "    #a = tensor(destroy(n),identity(2))\n",
    "    #σ = tensor(identity(n),destroy(2))\n",
    "\n",
    "    H0 = Δa*σ.dag()*σ + Δc*a.dag()*a + 1j*g*(a.dag()*σ - a*σ.dag())\n",
    "    H1 = 1j*Ω0*(a-a.dag())\n",
    "    \n",
    "    #Ω = gaussian(t)\n",
    "    #H = H0 + Ω*H1\n",
    "    \n",
    "\n",
    "    # collapse operators\n",
    "    c_op_list = []\n",
    "\n",
    "    # Cavity photons dissipation (a)\n",
    "    if κ > 0.0:\n",
    "        c_op_list.append( np.sqrt(κ)*a )\n",
    "\n",
    "    # Spontaneous emission\n",
    "    if γ > 0.0:\n",
    "        c_op_list.append( np.sqrt(γ)*σ )\n",
    "\n",
    "    # evolve and calculate expectation values\n",
    "\n",
    "    # method 1: function callback which returns the time-dependent qobj\n",
    "    H_args = (H0, H1)\n",
    "\n",
    "    A = a.dag() + a\n",
    "    B = A\n",
    "    \n",
    "    # calculate the power spectrum\n",
    "    #corr = correlation_ss(hamiltonian_t, tlist, c_op_list, A, B, H_args)  \n",
    "\n",
    "    # calculate the power spectrum\n",
    "    spec = spectrum_ss(hamiltonian_t, wlist, c_op_list, A, B, H_args)  \n",
    "\n",
    "    return spec#, corr"
   ]
  },
  {
   "cell_type": "code",
   "execution_count": 12,
   "metadata": {
    "collapsed": false
   },
   "outputs": [
    {
     "name": "stdout",
     "output_type": "stream",
     "text": [
      "time elapsed = 0.5810706615447998\n"
     ]
    },
    {
     "data": {
      "text/plain": [
       "[<matplotlib.lines.Line2D at 0x7f819ff991d0>]"
      ]
     },
     "execution_count": 12,
     "metadata": {},
     "output_type": "execute_result"
    },
    {
     "data": {
      "image/png": "[encoded data removed]",
      "text/plain": [
       "<matplotlib.figure.Figure at 0x7f819ff992b0>"
      ]
     },
     "metadata": {},
     "output_type": "display_data"
    }
   ],
   "source": [
    "#\n",
    "# Set up the calculation\n",
    "#\n",
    "π = np.pi\n",
    "\n",
    "n = 40 # Number of photons\n",
    "\n",
    "# I'm not sure about the detuning numbers!!!\n",
    "# δ = Δc -Δa, if Δa = 0, δ = Δc!\n",
    "Δc = 0.0e-3*(2*π)#2.25e-6 #2.0e-3*(2*π) # Detuning between the laser frequency and the cavity frequency\n",
    "Δa = 0.0e-3*(2*π) # Detuning between the laser frequency and the QD frequency\n",
    "\n",
    "g = 25.0e-3*(2*π)   #25e-3*(2*π) # Coherent interaction strength between the QD and the cavity\n",
    "Ω0 = 1.0e-3*(2*π)   #1e-3*(2*π) # Peak intensity of the driving pulse. Not the Pulse Area!(A0): A0 = \\sqrt(2π)σ Ω_0\n",
    "κ = 2*29.0e-3*(2*π)   #29e-3*(2*π) # Dissipation of the cavity field to the environment decay rate (a)\n",
    "γ = 2*1.0e-3*(2*π)    #1e-3*(2*π) # Dipole spontaneous emission rate (σ)\n",
    "ψ0 = tensor(basis(2,0),fock(n,0)) # initial state\n",
    "\n",
    "N = 500 # Number of time points\n",
    "tlist = np.linspace(0.0, 60.0, N)\n",
    "\n",
    "start_time = time.time()\n",
    "p_ex = qubit_integrate(n, Δa, Δc, g, Ω0, κ, γ, ψ0, tlist)\n",
    "print('time elapsed = ' + str(time.time() - start_time))\n",
    "\n",
    "plt.plot(tlist,np.real(p_ex)**2+np.imag(p_ex)**2)\n",
    "plt.plot(tlist,gaussian(tlist)*2.5e-4)"
   ]
  },
  {
   "cell_type": "code",
   "execution_count": 57,
   "metadata": {
    "collapsed": false
   },
   "outputs": [
    {
     "ename": "TypeError",
     "evalue": "spectrum_ss() takes 5 positional arguments but 6 were given",
     "output_type": "error",
     "traceback": [
      "\u001b[1;31m---------------------------------------------------------------------------\u001b[0m",
      "\u001b[1;31mTypeError\u001b[0m                                 Traceback (most recent call last)",
      "\u001b[1;32m<ipython-input-57-670f95ffdca9>\u001b[0m in \u001b[0;36m<module>\u001b[1;34m()\u001b[0m\n\u001b[0;32m     21\u001b[0m \u001b[1;33m\u001b[0m\u001b[0m\n\u001b[0;32m     22\u001b[0m \u001b[0mstart_time\u001b[0m \u001b[1;33m=\u001b[0m \u001b[0mtime\u001b[0m\u001b[1;33m.\u001b[0m\u001b[0mtime\u001b[0m\u001b[1;33m(\u001b[0m\u001b[1;33m)\u001b[0m\u001b[1;33m\u001b[0m\u001b[0m\n\u001b[1;32m---> 23\u001b[1;33m \u001b[0mspec1\u001b[0m \u001b[1;33m=\u001b[0m \u001b[0mcalc_spectrum\u001b[0m\u001b[1;33m(\u001b[0m\u001b[0mn\u001b[0m\u001b[1;33m,\u001b[0m \u001b[0mΔa\u001b[0m\u001b[1;33m,\u001b[0m \u001b[0mΔc\u001b[0m\u001b[1;33m,\u001b[0m \u001b[0mg\u001b[0m\u001b[1;33m,\u001b[0m \u001b[0mΩ0\u001b[0m\u001b[1;33m,\u001b[0m \u001b[0mκ\u001b[0m\u001b[1;33m,\u001b[0m \u001b[0mγ\u001b[0m\u001b[1;33m,\u001b[0m \u001b[0mtlist\u001b[0m\u001b[1;33m,\u001b[0m \u001b[0mwlist\u001b[0m\u001b[1;33m)\u001b[0m\u001b[1;33m\u001b[0m\u001b[0m\n\u001b[0m\u001b[0;32m     24\u001b[0m \u001b[0mspec2\u001b[0m \u001b[1;33m=\u001b[0m \u001b[0mcalc_spectrum\u001b[0m\u001b[1;33m(\u001b[0m\u001b[0mn\u001b[0m\u001b[1;33m,\u001b[0m \u001b[0mΔa\u001b[0m\u001b[1;33m,\u001b[0m \u001b[0mΔc\u001b[0m\u001b[1;33m,\u001b[0m \u001b[0mg\u001b[0m\u001b[1;33m,\u001b[0m \u001b[0mΩ0\u001b[0m\u001b[1;33m,\u001b[0m \u001b[0mκ\u001b[0m\u001b[1;33m,\u001b[0m \u001b[0mγ\u001b[0m\u001b[1;33m,\u001b[0m \u001b[0mtlist\u001b[0m\u001b[1;33m,\u001b[0m \u001b[0mwlist\u001b[0m\u001b[1;33m)\u001b[0m\u001b[1;33m\u001b[0m\u001b[0m\n\u001b[0;32m     25\u001b[0m \u001b[0mprint\u001b[0m\u001b[1;33m(\u001b[0m\u001b[1;34m'time elapsed = '\u001b[0m \u001b[1;33m+\u001b[0m \u001b[0mstr\u001b[0m\u001b[1;33m(\u001b[0m\u001b[0mtime\u001b[0m\u001b[1;33m.\u001b[0m\u001b[0mtime\u001b[0m\u001b[1;33m(\u001b[0m\u001b[1;33m)\u001b[0m \u001b[1;33m-\u001b[0m \u001b[0mstart_time\u001b[0m\u001b[1;33m)\u001b[0m\u001b[1;33m)\u001b[0m\u001b[1;33m\u001b[0m\u001b[0m\n",
      "\u001b[1;32m<ipython-input-55-25f1bc114bd7>\u001b[0m in \u001b[0;36mcalc_spectrum\u001b[1;34m(n, Δa, Δc, g, Ω0, κ, γ, tlist, wlist)\u001b[0m\n\u001b[0;32m     38\u001b[0m \u001b[1;33m\u001b[0m\u001b[0m\n\u001b[0;32m     39\u001b[0m     \u001b[1;31m# calculate the power spectrum\u001b[0m\u001b[1;33m\u001b[0m\u001b[1;33m\u001b[0m\u001b[0m\n\u001b[1;32m---> 40\u001b[1;33m     \u001b[0mspec\u001b[0m \u001b[1;33m=\u001b[0m \u001b[0mspectrum_ss\u001b[0m\u001b[1;33m(\u001b[0m\u001b[0mhamiltonian_t\u001b[0m\u001b[1;33m,\u001b[0m \u001b[0mwlist\u001b[0m\u001b[1;33m,\u001b[0m \u001b[0mc_op_list\u001b[0m\u001b[1;33m,\u001b[0m \u001b[0mA\u001b[0m\u001b[1;33m,\u001b[0m \u001b[0mB\u001b[0m\u001b[1;33m,\u001b[0m \u001b[0mH_args\u001b[0m\u001b[1;33m)\u001b[0m\u001b[1;33m\u001b[0m\u001b[0m\n\u001b[0m\u001b[0;32m     41\u001b[0m \u001b[1;33m\u001b[0m\u001b[0m\n\u001b[0;32m     42\u001b[0m     \u001b[1;32mreturn\u001b[0m \u001b[0mspec\u001b[0m\u001b[1;31m#, corr\u001b[0m\u001b[1;33m\u001b[0m\u001b[0m\n",
      "\u001b[1;31mTypeError\u001b[0m: spectrum_ss() takes 5 positional arguments but 6 were given"
     ]
    }
   ],
   "source": [
    "#\n",
    "# Spectrum calculation\n",
    "#\n",
    "π = np.pi\n",
    "\n",
    "n = 40 # Number of photons\n",
    "\n",
    "# I'm not sure about the detuning numbers!!!\n",
    "# δ = Δc -Δa, if Δa = 0, δ = Δc!\n",
    "Δc = 0.0e-3*(2*π)#2.25e-6 #2.0e-3*(2*π) # Detuning between the laser frequency and the cavity frequency\n",
    "Δa = 0.0e-3*(2*π) # Detuning between the laser frequency and the QD frequency\n",
    "\n",
    "g = 25.0e-3*(2*π)   #25e-3*(2*π) # Coherent interaction strength between the QD and the cavity\n",
    "Ω0 = 30.0e-3*(2*π)   #1e-3*(2*π) # Peak intensity of the driving pulse. Not the Pulse Area!(A0): A0 = \\sqrt(2π)σ Ω_0\n",
    "κ = 29.0e-3*(2*π)   #29e-3*(2*π) # Dissipation of the cavity field to the environment decay rate (a)\n",
    "γ = 1.0e-3*(2*π)    #1e-3*(2*π) # Dipole spontaneous emission rate (σ)\n",
    "\n",
    "N = 500 # Number of time points\n",
    "wlist = np.linspace(0, 2*π, N/2)\n",
    "tlist = np.linspace(0, 60, N)\n",
    "\n",
    "start_time = time.time()\n",
    "spec1 = calc_spectrum(n, Δa, Δc, g, Ω0, κ, γ, tlist, wlist)\n",
    "spec2 = calc_spectrum(n, Δa, Δc, g, Ω0, κ, γ, tlist, wlist)\n",
    "print('time elapsed = ' + str(time.time() - start_time))\n",
    "\n",
    "#figure(figsize=(9, 4))\n",
    "plt.plot(wlist/(2*π), np.abs(spec1), 'b', lw=2)\n",
    "plt.plot(wlist/(2*π), np.abs(spec2), 'r', lw=2)"
   ]
  },
  {
   "cell_type": "code",
   "execution_count": 39,
   "metadata": {
    "collapsed": false
   },
   "outputs": [
    {
     "data": {
      "image/png": "[encoded data removed]",
      "text/plain": [
       "<matplotlib.figure.Figure at 0x7f62e70b5080>"
      ]
     },
     "metadata": {},
     "output_type": "display_data"
    }
   ],
   "source": [
    "import numpy as np\n",
    "from scipy.fftpack import rfft, irfft, fftfreq, fft\n",
    "\n",
    "W = fftfreq(p_ex.size, d=(tlist[1]-tlist[0]))\n",
    "f_signal = fft(p_ex)\n",
    "\n",
    "plt.plot(W,1/N*np.abs(f_signal))\n",
    "plt.axis([-150/N,150/N,0,50/N]);"
   ]
  },
  {
   "cell_type": "code",
   "execution_count": 37,
   "metadata": {
    "collapsed": false
   },
   "outputs": [
    {
     "data": {
      "text/plain": [
       "[<matplotlib.lines.Line2D at 0x7f62e6ef37f0>]"
      ]
     },
     "execution_count": 37,
     "metadata": {},
     "output_type": "execute_result"
    },
    {
     "data": {
      "image/png": "[encoded data removed]",
      "text/plain": [
       "<matplotlib.figure.Figure at 0x7f62e6ef3518>"
      ]
     },
     "metadata": {},
     "output_type": "display_data"
    }
   ],
   "source": [
    "import scipy.fftpack\n",
    "\n",
    "# Number of samplepoints\n",
    "N = 600\n",
    "# sample spacing\n",
    "T = 1.0 / 800.0\n",
    "x = np.linspace(0.0, N*T, N)\n",
    "y = np.sin(50.0 * 2.0*np.pi*x) + 0.5*np.sin(80.0 * 2.0*np.pi*x)\n",
    "yf = scipy.fftpack.fft(y)\n",
    "xf = np.linspace(0.0, 1.0/(2.0*T), N/2)\n",
    "\n",
    "fig, ax = plt.subplots()\n",
    "ax.plot(xf, 2.0/N * np.abs(yf[0:N/2]))"
   ]
  },
  {
   "cell_type": "code",
   "execution_count": 20,
   "metadata": {
    "collapsed": false
   },
   "outputs": [
    {
     "data": {
      "text/plain": [
       "5000"
      ]
     },
     "execution_count": 20,
     "metadata": {},
     "output_type": "execute_result"
    }
   ],
   "source": [
    "len(W)"
   ]
  },
  {
   "cell_type": "code",
   "execution_count": null,
   "metadata": {
    "collapsed": true
   },
   "outputs": [],
   "source": []
  }
 ],
 "metadata": {
  "kernelspec": {
   "display_name": "Python 3",
   "language": "python",
   "name": "python3"
  },
  "language_info": {
   "codemirror_mode": {
    "name": "ipython",
    "version": 3
   },
   "file_extension": ".py",
   "mimetype": "text/x-python",
   "name": "python",
   "nbconvert_exporter": "python",
   "pygments_lexer": "ipython3",
   "version": "3.4.2"
  }
 },
 "nbformat": 4,
 "nbformat_minor": 0
}
